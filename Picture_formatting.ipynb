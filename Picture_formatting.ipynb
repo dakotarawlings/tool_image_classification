{
  "nbformat": 4,
  "nbformat_minor": 0,
  "metadata": {
    "colab": {
      "name": "Picture_formatting.ipynb",
      "provenance": [],
      "collapsed_sections": [],
      "authorship_tag": "ABX9TyOJeWyHSxqnVWnX8/g4sJt3",
      "include_colab_link": true
    },
    "kernelspec": {
      "name": "python3",
      "display_name": "Python 3"
    },
    "language_info": {
      "name": "python"
    }
  },
  "cells": [
    {
      "cell_type": "markdown",
      "metadata": {
        "id": "view-in-github",
        "colab_type": "text"
      },
      "source": [
        "<a href=\"https://colab.research.google.com/github/dakotarawlings/tool_image_classification/blob/main/Picture_formatting.ipynb\" target=\"_parent\"><img src=\"https://colab.research.google.com/assets/colab-badge.svg\" alt=\"Open In Colab\"/></a>"
      ]
    },
    {
      "cell_type": "code",
      "execution_count": null,
      "metadata": {
        "id": "rZLmhMEIlihw"
      },
      "outputs": [],
      "source": [
        "#This script loops through all image files in a specified directory to check the file format"
      ]
    },
    {
      "cell_type": "code",
      "metadata": {
        "id": "QwVg0BCprXMd"
      },
      "source": [
        "#import image processing tools\n",
        "import pathlib\n",
        "from PIL import Image\n",
        "import os\n"
      ],
      "execution_count": null,
      "outputs": []
    },
    {
      "cell_type": "code",
      "metadata": {
        "colab": {
          "base_uri": "https://localhost:8080/"
        },
        "id": "FJNHw83S-B_o",
        "outputId": "25e96b79-0889-43e6-890b-8526d7c22678"
      },
      "source": [
        "#connect to google drive\n",
        "from google.colab import drive\n",
        "drive.mount('/content/gdrive')\n"
      ],
      "execution_count": null,
      "outputs": [
        {
          "output_type": "stream",
          "name": "stdout",
          "text": [
            "Mounted at /content/gdrive\n"
          ]
        }
      ]
    },
    {
      "cell_type": "code",
      "metadata": {
        "id": "MuOceNSr9U88"
      },
      "source": [
        "#specify directories for image data\n",
        "root_path=\"/content/gdrive/My Drive/Colab Notebooks/Tool_CV_project/\"\n",
        "data_path=\"/content/gdrive/My Drive/Colab Notebooks/Tool_CV_project/tool_dataset/\"\n",
        "\n",
        "directories=['drill','hammer', 'screw_driver', 'pliers','allen_key', 'circular_saw', 'hand_saw', 'hacksaw', 'wrench', 'lug_wrench']\n"
      ],
      "execution_count": null,
      "outputs": []
    },
    {
      "cell_type": "code",
      "metadata": {
        "id": "BCdtA8v9Kx22"
      },
      "source": [
        "#Get the complete path for the data\n",
        "import pathlib\n",
        "data_dir=pathlib.Path(data_path)"
      ],
      "execution_count": null,
      "outputs": []
    },
    {
      "cell_type": "code",
      "metadata": {
        "colab": {
          "base_uri": "https://localhost:8080/"
        },
        "id": "4l_7-sApMPW_",
        "outputId": "034c4c9a-f21f-49d2-ce22-155b79032099"
      },
      "source": [
        "#Count the total number of files in the data directory\n",
        "image_count=len(list(data_dir.glob('*/*')))\n",
        "print(image_count)"
      ],
      "execution_count": null,
      "outputs": [
        {
          "output_type": "stream",
          "name": "stdout",
          "text": [
            "3228\n"
          ]
        }
      ]
    },
    {
      "cell_type": "code",
      "source": [
        "list(data_dir.glob('*/*.jpg'))[1].suffix"
      ],
      "metadata": {
        "colab": {
          "base_uri": "https://localhost:8080/",
          "height": 35
        },
        "id": "FWQ1fUKBta1d",
        "outputId": "ca7ac9da-8ad2-4b61-c67b-c659a41da2d3"
      },
      "execution_count": null,
      "outputs": [
        {
          "output_type": "execute_result",
          "data": {
            "application/vnd.google.colaboratory.intrinsic+json": {
              "type": "string"
            },
            "text/plain": [
              "'.jpg'"
            ]
          },
          "metadata": {},
          "execution_count": 8
        }
      ]
    },
    {
      "cell_type": "code",
      "source": [
        "#count the number of files in each directory\n",
        "for directory in directories:\n",
        "  cat_dir=pathlib.Path(data_path+directory+'/')\n",
        "  image_count=len(list(cat_dir.rglob('*')))\n",
        "  print(str(directory)+' has ' +str(image_count)+' files')"
      ],
      "metadata": {
        "colab": {
          "base_uri": "https://localhost:8080/"
        },
        "id": "FWjIZSwXZHRr",
        "outputId": "9abd06ed-e831-433a-d401-4d5383dd80ba"
      },
      "execution_count": null,
      "outputs": [
        {
          "output_type": "stream",
          "name": "stdout",
          "text": [
            "drill has 219 files\n",
            "hammer has 543 files\n",
            "screw_driver has 244 files\n",
            "pliers has 574 files\n",
            "allen_key has 334 files\n",
            "circular_saw has 331 files\n",
            "hand_saw has 129 files\n",
            "hacksaw has 211 files\n",
            "wrench has 342 files\n",
            "lug_wrench has 301 files\n"
          ]
        }
      ]
    },
    {
      "cell_type": "code",
      "source": [
        "#List all of the images that are not jpegs\n",
        "image_list=list(data_dir.glob('*/*'))\n",
        "no_jp_list=[]\n",
        "for image in image_list:\n",
        "  \n",
        "  if image.suffix not in ['.jpg' ,'.jpeg' ,'.png'] or '.' in str(image)[0:-4]:\n",
        "    image=str(image)\n",
        "    oldim=image\n",
        "    no_jp_list.append(image)\n",
        "\n",
        "len(no_jp_list)"
      ],
      "metadata": {
        "id": "EvQ4ZgLS4r1U"
      },
      "execution_count": null,
      "outputs": []
    },
    {
      "cell_type": "code",
      "source": [
        "#list all of the images that are not in the accepted tf formatt (even if the extension is jpg, it might not be a jpg so .what checks for this)\n",
        "\n",
        "from pathlib import Path\n",
        "import imghdr\n",
        "\n",
        "image_extensions = [\".png\", \".jpg\"]  # add there all your images file extensions\n",
        "no_jp_list=[]\n",
        "img_type_accepted_by_tf = [\"bmp\", \"gif\", \"jpeg\", \"png\"]\n",
        "for filepath in Path(data_dir).rglob(\"*\"):\n",
        "  if filepath.suffix.lower() in image_extensions:\n",
        "    img_type = imghdr.what(filepath)\n",
        "    if img_type is None:\n",
        "      no_jp_list.append(str(filepath))\n",
        "      #print(f\"{filepath} is not an image\")\n",
        "    elif img_type not in img_type_accepted_by_tf:\n",
        "      no_jp_list.append(str(filepath))\n",
        "      #print(f\"{filepath} is a {img_type}, not accepted by TensorFlow\")\n",
        "\n",
        "    "
      ],
      "metadata": {
        "id": "ri9IAlc8NfrW"
      },
      "execution_count": null,
      "outputs": []
    },
    {
      "cell_type": "code",
      "source": [
        "len(no_jp_list)"
      ],
      "metadata": {
        "colab": {
          "base_uri": "https://localhost:8080/"
        },
        "id": "fq7uV5E_T77k",
        "outputId": "f78f84b8-3520-4e51-aff1-52b2aebee69e"
      },
      "execution_count": null,
      "outputs": [
        {
          "output_type": "execute_result",
          "data": {
            "text/plain": [
              "0"
            ]
          },
          "metadata": {},
          "execution_count": 31
        }
      ]
    },
    {
      "cell_type": "code",
      "source": [
        "#Loop through all of the image files. Remove all of the images that are not in the accepted tf formatt (even if the extension is jpg, it might not be a jpg so .what checks for this)\n",
        "\n",
        "from pathlib import Path\n",
        "import imghdr\n",
        "\n",
        "image_extensions = [\".png\", \".jpg\"]  \n",
        "\n",
        "img_type_accepted_by_tf = [\"bmp\", \"gif\", \"jpeg\", \"png\"]\n",
        "for filepath in Path(data_dir).rglob(\"*\"):\n",
        "  if filepath.suffix.lower() in image_extensions:\n",
        "    img_type = imghdr.what(filepath)\n",
        "    if img_type is None:\n",
        "      os.remove(str(filepath))\n",
        "      #print(f\"{filepath} is not an image\")\n",
        "    elif img_type not in img_type_accepted_by_tf:\n",
        "      os.remove(str(filepath))\n",
        "      #print(f\"{filepath} is a {img_type}, not accepted by TensorFlow\")\n",
        "  else:\n",
        "    os.remove(str(filepath))\n"
      ],
      "metadata": {
        "id": "09xhx-efTM1u"
      },
      "execution_count": null,
      "outputs": []
    }
  ]
}